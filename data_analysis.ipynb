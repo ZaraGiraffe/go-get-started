{
 "cells": [
  {
   "cell_type": "code",
   "execution_count": 1,
   "metadata": {},
   "outputs": [
    {
     "name": "stderr",
     "output_type": "stream",
     "text": [
      "/Users/zara/Documents/playground/go-get-started/.venv/lib/python3.9/site-packages/tqdm/auto.py:21: TqdmWarning: IProgress not found. Please update jupyter and ipywidgets. See https://ipywidgets.readthedocs.io/en/stable/user_install.html\n",
      "  from .autonotebook import tqdm as notebook_tqdm\n"
     ]
    }
   ],
   "source": [
    "import pandas as pd\n",
    "from tqdm.auto import tqdm"
   ]
  },
  {
   "cell_type": "code",
   "execution_count": 23,
   "metadata": {},
   "outputs": [],
   "source": [
    "user_data = pd.read_csv(\"./data/small/user_data.csv\")\n",
    "market_data = pd.read_csv(\"./data/small/market_data.csv\")"
   ]
  },
  {
   "cell_type": "code",
   "execution_count": 24,
   "metadata": {},
   "outputs": [
    {
     "data": {
      "text/plain": [
       "currency\n",
       "EUR    2267\n",
       "BTC    2240\n",
       "ETH    2189\n",
       "USD    2174\n",
       "XPR     447\n",
       "BAT     445\n",
       "CAD     238\n",
       "Name: count, dtype: int64"
      ]
     },
     "execution_count": 24,
     "metadata": {},
     "output_type": "execute_result"
    }
   ],
   "source": [
    "user_data[\"currency\"].value_counts()"
   ]
  },
  {
   "cell_type": "code",
   "execution_count": 26,
   "metadata": {},
   "outputs": [],
   "source": [
    "new_user_data = user_data[user_data[\"user_id\"] == \"9b889da5-cd5e-4fea-9680-e4aef39193ad\"]\n",
    "new_user_data.to_csv(\"./data/small/user_data.csv\", index=False)"
   ]
  },
  {
   "cell_type": "code",
   "execution_count": 2,
   "metadata": {},
   "outputs": [],
   "source": [
    "df_output = pd.read_csv(\"data/small/output/bars-1d.csv\")\n",
    "df_example = pd.read_csv(\"data/small/example-output/bars-1d.csv\")"
   ]
  },
  {
   "cell_type": "code",
   "execution_count": 3,
   "metadata": {},
   "outputs": [],
   "source": [
    "df_sorted_output = df_output.sort_values([\"user_id\", \"start_timestamp\"])\n",
    "df_sorted_example = df_example.sort_values([\"user_id\", \"start_timestamp\"])"
   ]
  },
  {
   "cell_type": "code",
   "execution_count": 4,
   "metadata": {},
   "outputs": [
    {
     "name": "stderr",
     "output_type": "stream",
     "text": [
      "100%|██████████| 122300/122300 [00:09<00:00, 13111.21it/s]\n"
     ]
    }
   ],
   "source": [
    "eps = 0.1\n",
    "minimum, maximum, average = 0, 0, 0\n",
    "for i in tqdm(range(len(df_example))):\n",
    "    output = df_sorted_output.iloc[i]\n",
    "    example = df_sorted_example.iloc[i]\n",
    "    if abs(output.minimum_balance - example.minimum_balance) > eps:\n",
    "        minimum += 1\n",
    "    if abs(output.maximum_balance - example.maximum_balance) > eps:\n",
    "        maximum += 1\n",
    "    if abs(output.average_balance - example.average_balance) > eps:\n",
    "        average += 1"
   ]
  },
  {
   "cell_type": "code",
   "execution_count": 5,
   "metadata": {},
   "outputs": [
    {
     "data": {
      "text/plain": [
       "(0, 0, 80666)"
      ]
     },
     "execution_count": 5,
     "metadata": {},
     "output_type": "execute_result"
    }
   ],
   "source": [
    "minimum, maximum, average"
   ]
  },
  {
   "cell_type": "code",
   "execution_count": 20,
   "metadata": {},
   "outputs": [
    {
     "data": {
      "text/plain": [
       "user_id            01f5b699-535e-415c-af84-446e5c00385e\n",
       "minimum_balance                                     0.0\n",
       "maximum_balance                                     0.0\n",
       "average_balance                                     0.0\n",
       "start_timestamp                              1599782400\n",
       "Name: 294, dtype: object"
      ]
     },
     "execution_count": 20,
     "metadata": {},
     "output_type": "execute_result"
    }
   ],
   "source": [
    "df_sorted_example.iloc[2]"
   ]
  },
  {
   "cell_type": "code",
   "execution_count": null,
   "metadata": {},
   "outputs": [],
   "source": []
  }
 ],
 "metadata": {
  "kernelspec": {
   "display_name": ".venv",
   "language": "python",
   "name": "python3"
  },
  "language_info": {
   "codemirror_mode": {
    "name": "ipython",
    "version": 3
   },
   "file_extension": ".py",
   "mimetype": "text/x-python",
   "name": "python",
   "nbconvert_exporter": "python",
   "pygments_lexer": "ipython3",
   "version": "3.9.6"
  }
 },
 "nbformat": 4,
 "nbformat_minor": 2
}
